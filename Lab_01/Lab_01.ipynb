{
 "cells": [
  {
   "cell_type": "markdown",
   "metadata": {},
   "source": [
    "# Tema nr. 1\n"
   ]
  },
  {
   "cell_type": "markdown",
   "metadata": {},
   "source": [
    "\n",
    "## Problema 1"
   ]
  },
  {
   "cell_type": "code",
   "execution_count": 3,
   "metadata": {},
   "outputs": [],
   "source": [
    "from termcolor import colored\n",
    "import numpy as np\n",
    "import random\n",
    "import math\n",
    "pi = math.pi"
   ]
  },
  {
   "cell_type": "code",
   "execution_count": 4,
   "metadata": {},
   "outputs": [
    {
     "name": "stdout",
     "output_type": "stream",
     "text": [
      "\u001b[31mCel mai mic numar u este: 1e-15\u001b[0m\n"
     ]
    }
   ],
   "source": [
    "u = 1.0\n",
    "\n",
    "for i in range(1000, 0, -1):\n",
    "    u = pow(10, -i)\n",
    "    if 1.0 + u != 1.0:\n",
    "        print(colored(f\"Cel mai mic numar u este: {u}\", 'red'))\n",
    "        break"
   ]
  },
  {
   "cell_type": "markdown",
   "metadata": {},
   "source": [
    "## Problema 2"
   ]
  },
  {
   "cell_type": "code",
   "execution_count": 5,
   "metadata": {},
   "outputs": [],
   "source": [
    "a = 1.0\n",
    "b = u / 10\n",
    "c = u / 10"
   ]
  },
  {
   "cell_type": "markdown",
   "metadata": {},
   "source": [
    "### a) (a + b) + c != a + (b + c)"
   ]
  },
  {
   "cell_type": "code",
   "execution_count": 6,
   "metadata": {},
   "outputs": [
    {
     "name": "stdout",
     "output_type": "stream",
     "text": [
      "\u001b[32mRezultatul calcului (a + b) + c = 1.0\u001b[0m\n",
      "\u001b[32mRezultatul calcului a + (b + c) = 1.0000000000000002\u001b[0m\n",
      "\u001b[32ma + (b + c) == a + (b + c): False\u001b[0m\n"
     ]
    }
   ],
   "source": [
    "print(colored(f\"Rezultatul calcului (a + b) + c = {(a + b) + c}\", 'green'))\n",
    "print(colored(f\"Rezultatul calcului a + (b + c) = {a + (b + c)}\", 'green'))\n",
    "print(colored(f\"a + (b + c) == a + (b + c): {a + (b + c) == (a + b) + c}\", 'green'))"
   ]
  },
  {
   "cell_type": "markdown",
   "metadata": {},
   "source": [
    "### b) (a * b) * c != a * (b * c)\n"
   ]
  },
  {
   "cell_type": "code",
   "execution_count": 7,
   "metadata": {},
   "outputs": [
    {
     "name": "stdout",
     "output_type": "stream",
     "text": [
      "\u001b[31mUn exemplu de numere pentru care inmultirea nu e asociativa este:\u001b[0m\n",
      "\u001b[31ma = 0.9851878724985974\u001b[0m\n",
      "\u001b[31mb = 1.4798405300679367\u001b[0m\n",
      "\u001b[31mc = 1.1073852836805738\u001b[0m\n",
      "\u001b[31mRezultatul calcului este urmatorul:\u001b[0m\n",
      "\u001b[34m(a * b) * c = 1.6144801975515737\u001b[0m\n",
      "\u001b[34ma * (b * c) = 1.6144801975515735\u001b[0m\n"
     ]
    }
   ],
   "source": [
    "while True:\n",
    "    a = random.uniform(0, 2)\n",
    "    b = random.uniform(0, 2)\n",
    "    c = random.uniform(0, 2)\n",
    "    if (a * b) * c != a * (b * c):\n",
    "        print(colored(f\"Un exemplu de numere pentru care inmultirea nu e asociativa este:\", \"red\"))\n",
    "        print(colored(f\"a = {a}\", \"red\"))\n",
    "        print(colored(f\"b = {b}\", \"red\"))\n",
    "        print(colored(f\"c = {c}\", \"red\"))\n",
    "        print(colored(f\"Rezultatul calcului este urmatorul:\", \"red\"))\n",
    "        print(colored(f\"(a * b) * c = {(a * b) * c}\", \"blue\"))\n",
    "        print(colored(f\"a * (b * c) = {a * (b * c)}\", \"blue\"))\n",
    "        break"
   ]
  },
  {
   "cell_type": "markdown",
   "metadata": {},
   "source": [
    "## Problema 3"
   ]
  },
  {
   "cell_type": "markdown",
   "metadata": {},
   "source": [
    "### a) Reducerea functiei tangenta"
   ]
  },
  {
   "cell_type": "code",
   "execution_count": 21,
   "metadata": {},
   "outputs": [],
   "source": [
    "def reduce_tan(x, tan_function):\n",
    "    inverse = 1\n",
    "    if x < 0:\n",
    "        inverse = -1\n",
    "        x = -x\n",
    "    while x > pi/2:\n",
    "        x = x - pi\n",
    "    return tan_function(inverse * x)"
   ]
  },
  {
   "cell_type": "code",
   "execution_count": 9,
   "metadata": {},
   "outputs": [
    {
     "name": "stdout",
     "output_type": "stream",
     "text": [
      "1.0471975511965976\n"
     ]
    },
    {
     "data": {
      "text/plain": [
       "1.7320508075688767"
      ]
     },
     "execution_count": 9,
     "metadata": {},
     "output_type": "execute_result"
    }
   ],
   "source": [
    "reduce_tan(pi / 3, math.tan)"
   ]
  },
  {
   "cell_type": "markdown",
   "metadata": {},
   "source": [
    "### b) Algoritmul lui Lentz"
   ]
  },
  {
   "cell_type": "code",
   "execution_count": 12,
   "metadata": {},
   "outputs": [],
   "source": [
    "def my_tan_1(x, epsilon = 1e-15):\n",
    "    b = 0\n",
    "    f = b\n",
    "    mic = 10 ** (-12)\n",
    "    if f == 0:\n",
    "        f = mic\n",
    "    C = f\n",
    "    D = 0\n",
    "    j = 1\n",
    "    a = x\n",
    "    b = 1\n",
    "    while True:\n",
    "        D = b + a * D\n",
    "        if D == 0:\n",
    "            D = mic\n",
    "        C = b + a / C\n",
    "        if C == 0:\n",
    "            C = mic\n",
    "        D = 1 / D\n",
    "        delta = C * D\n",
    "        f = delta * f\n",
    "        if a == x:\n",
    "            a = - x * x\n",
    "        b += 2\n",
    "        if abs(delta - 1) <= epsilon:\n",
    "            break\n",
    "    return f"
   ]
  },
  {
   "cell_type": "markdown",
   "metadata": {},
   "source": [
    "### c) Aproximarea functiei tangenta folosind polinoame"
   ]
  },
  {
   "cell_type": "code",
   "execution_count": 13,
   "metadata": {},
   "outputs": [],
   "source": [
    "def my_tan_2(x):\n",
    "    c1 = 0.33333333333333333\n",
    "    c2=0.133333333333333333\n",
    "    c3=0.053968253968254\n",
    "    c4=0.0218694885361552\n",
    "    x_2=x*x\n",
    "    x_3=x_2*x\n",
    "    x_4=x_2*x_2\n",
    "    return x + c1 * (x ** 3) + c2 * (x ** 5) + c3 * (x ** 7) + c4 * (x ** 9)"
   ]
  },
  {
   "cell_type": "code",
   "execution_count": 24,
   "metadata": {},
   "outputs": [
    {
     "name": "stdout",
     "output_type": "stream",
     "text": [
      "Rezultatele celor 3 variante de tangenta: \n",
      "0.3648505759559659, \n",
      "0.3648505759569659, \n",
      "0.3648504863592508\n",
      "\n",
      "Rezultatele celor 3 variante de tangenta: \n",
      "0.2600332770833016, \n",
      "0.26003327708430163, \n",
      "0.26003327445418783\n",
      "\n",
      "Rezultatele celor 3 variante de tangenta: \n",
      "3.5162999246070026, \n",
      "3.516299924608002, \n",
      "3.0480992324326732\n",
      "\n",
      "Rezultatele celor 3 variante de tangenta: \n",
      "-0.08178400434119897, \n",
      "-0.08178400434019897, \n",
      "-0.08178400434118946\n",
      "\n",
      "Rezultatele celor 3 variante de tangenta: \n",
      "1.5873281434775819, \n",
      "1.5873281434785822, \n",
      "1.5707542048670786\n",
      "\n",
      "Rezultatele celor 3 variante de tangenta: \n",
      "1.5008911868073835, \n",
      "1.5008911868083827, \n",
      "1.488816510720636\n",
      "\n",
      "Rezultatele celor 3 variante de tangenta: \n",
      "-0.2819616142918657, \n",
      "-0.28196161429086575, \n",
      "-0.28196160811534726\n",
      "\n",
      "Rezultatele celor 3 variante de tangenta: \n",
      "0.465945924405991, \n",
      "0.46594592440699095, \n",
      "0.4659448841192248\n",
      "\n",
      "Rezultatele celor 3 variante de tangenta: \n",
      "0.20482391144085396, \n",
      "0.20482391144185394, \n",
      "0.2048239112346003\n",
      "\n",
      "Rezultatele celor 3 variante de tangenta: \n",
      "0.02182251758963886, \n",
      "0.021822517590638864, \n",
      "0.02182251758963886\n",
      "\n",
      "\n",
      "\n",
      "\n",
      "\u001b[31mEroarea celor 2 functii este 9.998706723690631e-12 si 0.4968504457669568\u001b[0m\n"
     ]
    }
   ],
   "source": [
    "error_sum_1 = 0\n",
    "error_sum_2 = 0\n",
    "i = 0\n",
    "while i < 10:\n",
    "    i = i+ 1\n",
    "    x = random.uniform(-1000, 1000)\n",
    "    tan_rezult_1 = reduce_tan(x, math.tan)\n",
    "    tan_rezult_2 = reduce_tan(x, my_tan_1)\n",
    "    tan_rezult_3 = reduce_tan(x, my_tan_2)\n",
    "    print(f\"Rezultatele celor 3 variante de tangenta: \\n{tan_rezult_1}, \\n{tan_rezult_2}, \\n{tan_rezult_3}\\n\")\n",
    "    error_sum_1 += abs(tan_rezult_1 - tan_rezult_2)\n",
    "    error_sum_2 += abs(tan_rezult_1 - tan_rezult_3)\n",
    "print(\"\\n\\n\")\n",
    "print(colored(f\"Eroarea celor 2 functii este {error_sum_1} si {error_sum_2}\", \"red\"))"
   ]
  }
 ],
 "metadata": {
  "kernelspec": {
   "display_name": "Python 3",
   "language": "python",
   "name": "python3"
  },
  "language_info": {
   "codemirror_mode": {
    "name": "ipython",
    "version": 3
   },
   "file_extension": ".py",
   "mimetype": "text/x-python",
   "name": "python",
   "nbconvert_exporter": "python",
   "pygments_lexer": "ipython3",
   "version": "3.8.3"
  }
 },
 "nbformat": 4,
 "nbformat_minor": 4
}
